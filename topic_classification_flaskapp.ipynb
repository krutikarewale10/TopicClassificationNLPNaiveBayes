{
 "cells": [
  {
   "cell_type": "code",
   "execution_count": 1,
   "metadata": {},
   "outputs": [],
   "source": [
    "from flask import Flask, render_template, request\n",
    "from wtforms import Form, TextAreaField, validators\n",
    "import pickle\n",
    "import sqlite3\n",
    "import os\n",
    "import numpy as np\n",
    "import joblib"
   ]
  },
  {
   "cell_type": "code",
   "execution_count": 2,
   "metadata": {},
   "outputs": [],
   "source": [
    "loaded_model=joblib.load(\"C:/Python/Python3.8.2/KRU_PRACTISE/PYTHON/WEB_APPLICATION/pkl/model.pkl\")\n",
    "loaded_stop=joblib.load(\"C:/Python/Python3.8.2/KRU_PRACTISE/PYTHON/WEB_APPLICATION/pkl/stopwords.pkl\")\n",
    "loaded_vec=joblib.load(\"C:/Python/Python3.8.2/KRU_PRACTISE/PYTHON/WEB_APPLICATION/pkl/vectorizer.pkl\")"
   ]
  },
  {
   "cell_type": "code",
   "execution_count": 3,
   "metadata": {},
   "outputs": [],
   "source": [
    "app = Flask(__name__)\n"
   ]
  },
  {
   "cell_type": "code",
   "execution_count": 4,
   "metadata": {},
   "outputs": [],
   "source": [
    "def classify(document):\n",
    " label = {0: 'Weather', 1: 'Disease'}\n",
    " X = loaded_vec.transform([document])\n",
    " y = loaded_model.predict(X)[0]\n",
    " proba = np.max(loaded_model.predict_proba(X))\n",
    " return label[y], proba\n"
   ]
  },
  {
   "cell_type": "code",
   "execution_count": 5,
   "metadata": {},
   "outputs": [
    {
     "data": {
      "text/plain": [
       "'\\nclass ReviewForm(Form):\\n moviereview = TextAreaField(‘’,[validators.DataRequired(),validators.length(min=15)])'"
      ]
     },
     "execution_count": 5,
     "metadata": {},
     "output_type": "execute_result"
    }
   ],
   "source": [
    "class Textdata(Form):\n",
    " datatext = TextAreaField('',[validators.DataRequired(),validators.length(min=15)])\n",
    "'''\n",
    "class ReviewForm(Form):\n",
    " moviereview = TextAreaField(‘’,[validators.DataRequired(),validators.length(min=15)])'''"
   ]
  },
  {
   "cell_type": "code",
   "execution_count": 6,
   "metadata": {},
   "outputs": [
    {
     "data": {
      "text/plain": [
       "'\\n@app.route(‘/’)\\ndef index():\\n form = ReviewForm(request.form)\\n return render_template(‘reviewform.html’, form=form)'"
      ]
     },
     "execution_count": 6,
     "metadata": {},
     "output_type": "execute_result"
    }
   ],
   "source": [
    "@app.route('/')\n",
    "def index():\n",
    " form = Textdata(request.form)\n",
    " return render_template('textdata.html', form=form)\n",
    "\n",
    "'''\n",
    "@app.route(‘/’)\n",
    "def index():\n",
    " form = ReviewForm(request.form)\n",
    " return render_template(‘reviewform.html’, form=form)'''"
   ]
  },
  {
   "cell_type": "code",
   "execution_count": null,
   "metadata": {},
   "outputs": [],
   "source": [
    "@app.route('/results', methods=['POST'])\n",
    "def results():\n",
    " form = Textdata(request.form)\n",
    " if request.method == 'POST' and form.validate():\n",
    "        Text = request.form['datatext']\n",
    "        y, proba = classify(Text)\n",
    "        return render_template('results.html',content=review,prediction=y,probability=round(proba*100, 2))\n",
    "        return render_template('textdata.html', form=form)\n",
    "if __name__ == '__main__':\n",
    " app.run(debug=True, use_reloader=False)\n",
    "\n",
    "\n",
    "\n",
    "'''\n",
    "@app.route(‘/results’, methods=[‘POST’])\n",
    "def results():\n",
    " form = ReviewForm(request.form)\n",
    " if request.method == ‘POST’ and form.validate():\n",
    " review = request.form[‘moviereview’]\n",
    " y, proba = classify(review)\n",
    " return render_template(‘results.html’,content=review,prediction=y,probability=round(proba*100, 2))\n",
    " return render_template(‘reviewform.html’, form=form)\n",
    "if __name__ == ‘__main__’:\n",
    " app.run(debug=True)\n",
    "'''"
   ]
  },
  {
   "cell_type": "code",
   "execution_count": null,
   "metadata": {},
   "outputs": [],
   "source": []
  },
  {
   "cell_type": "code",
   "execution_count": null,
   "metadata": {},
   "outputs": [],
   "source": []
  },
  {
   "cell_type": "code",
   "execution_count": null,
   "metadata": {},
   "outputs": [],
   "source": []
  }
 ],
 "metadata": {
  "kernelspec": {
   "display_name": "Python 3",
   "language": "python",
   "name": "python3"
  },
  "language_info": {
   "codemirror_mode": {
    "name": "ipython",
    "version": 3
   },
   "file_extension": ".py",
   "mimetype": "text/x-python",
   "name": "python",
   "nbconvert_exporter": "python",
   "pygments_lexer": "ipython3",
   "version": "3.8.5"
  }
 },
 "nbformat": 4,
 "nbformat_minor": 4
}
