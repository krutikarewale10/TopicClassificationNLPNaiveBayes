{
 "cells": [
  {
   "cell_type": "code",
   "execution_count": 14,
   "metadata": {},
   "outputs": [],
   "source": [
    "#Import Libraries\n",
    "\n",
    "import pandas as pd\n",
    "import numpy as np\n",
    "from nltk.tokenize import word_tokenize\n",
    "from nltk import pos_tag\n",
    "from nltk.corpus import stopwords\n",
    "from nltk.stem import WordNetLemmatizer\n",
    "from sklearn.preprocessing import LabelEncoder\n",
    "from collections import defaultdict\n",
    "from nltk.corpus import wordnet as wn\n",
    "from sklearn.feature_extraction.text import TfidfVectorizer\n",
    "from sklearn import model_selection, naive_bayes, svm\n",
    "from sklearn.metrics import accuracy_score"
   ]
  },
  {
   "cell_type": "code",
   "execution_count": 15,
   "metadata": {},
   "outputs": [
    {
     "name": "stdout",
     "output_type": "stream",
     "text": [
      "0         Abdominal Aortic Aneurysm — see Aortic Aneurysm\n",
      "1                                  Acanthamoeba Infection\n",
      "2                     ACE (Adverse Childhood Experiences)\n",
      "3                                 Acinetobacter Infection\n",
      "4       Acquired Immune Deficiency Syndrome (AIDS) — s...\n",
      "                              ...                        \n",
      "1895                                        I love autumn\n",
      "1896      Covid - 19 is spreading like fire in the forest\n",
      "1897    Preventive measures should be taken to be safe...\n",
      "1898                                        I am not well\n",
      "1899                                    Love this weather\n",
      "Name: Text, Length: 1900, dtype: object\n"
     ]
    }
   ],
   "source": [
    "#Load the data\n",
    "\n",
    "data = pd.read_excel(open(\"C:/Python/Python3.8.2/KRU_PRACTISE/PYTHON/NLP/Text_Mining/training_data.xlsx\",'rb'))\n",
    "Corpus = pd.DataFrame(data) \n",
    "print(Corpus['Text'])"
   ]
  },
  {
   "cell_type": "code",
   "execution_count": 16,
   "metadata": {},
   "outputs": [],
   "source": [
    "# Step - a : Remove blank rows if any.\n",
    "Corpus['Text'].dropna(inplace=True)\n",
    "\n",
    "# Step - b : Change all the text to lower case. This is required as python interprets 'dog' and 'DOG' differently\n",
    "Corpus['Text'] = Corpus['Text'].str.lower()\n",
    "\n",
    "# Step - c : Tokenization : In this each entry in the corpus will be broken into set of words\n",
    "#Corpus['Text']= [word_tokenize(entry) for entry in Corpus['Text']]\n",
    "Corpus['Text']= [word_tokenize(entry) for entry in Corpus['Text']]\n",
    "\n",
    "# Step - d : Remove Stop words, Non-Numeric and perfom Word Stemming/Lemmenting.\n",
    "# WordNetLemmatizer requires Pos tags to understand if the word is noun or verb or adjective etc. By default it is set to Noun\n",
    "tag_map = defaultdict(lambda : wn.NOUN)\n",
    "tag_map['J'] = wn.ADJ\n",
    "tag_map['V'] = wn.VERB\n",
    "tag_map['R'] = wn.ADV\n",
    "for index,entry in enumerate(Corpus['Text']):\n",
    "    # Declaring Empty List to store the words that follow the rules for this step\n",
    "    Final_words = []\n",
    "    # Initializing WordNetLemmatizer()\n",
    "    word_Lemmatized = WordNetLemmatizer()\n",
    "    # pos_tag function below will provide the 'tag' i.e if the word is Noun(N) or Verb(V) or something else.\n",
    "    for word, tag in pos_tag(entry):\n",
    "        # Below condition is to check for Stop words and consider only alphabets\n",
    "        if word not in stopwords.words('english') and word.isalpha():\n",
    "            word_Final = word_Lemmatized.lemmatize(word,tag_map[tag[0]])\n",
    "            Final_words.append(word_Final)\n",
    "    # The final processed set of words for each iteration will be stored in 'text_final'\n",
    "    Corpus.loc[index,'Text_final'] = str(Final_words)"
   ]
  },
  {
   "cell_type": "code",
   "execution_count": 17,
   "metadata": {},
   "outputs": [],
   "source": [
    "Train_X, Test_X, Train_Y, Test_Y = model_selection.train_test_split(Corpus['Text_final'],Corpus['Type'],test_size=0.01)"
   ]
  },
  {
   "cell_type": "code",
   "execution_count": 18,
   "metadata": {},
   "outputs": [],
   "source": [
    "Encoder = LabelEncoder()\n",
    "Train_Y = Encoder.fit_transform(Train_Y)\n",
    "Test_Y = Encoder.fit_transform(Test_Y)"
   ]
  },
  {
   "cell_type": "code",
   "execution_count": 19,
   "metadata": {},
   "outputs": [],
   "source": [
    "Tfidf_vect = TfidfVectorizer(max_features=5000)\n",
    "Tfidf_vect.fit(Corpus['Text_final'])\n",
    "Train_X_Tfidf = Tfidf_vect.transform(Train_X)\n",
    "Test_X_Tfidf = Tfidf_vect.transform(Test_X)"
   ]
  },
  {
   "cell_type": "code",
   "execution_count": 20,
   "metadata": {},
   "outputs": [
    {
     "name": "stdout",
     "output_type": "stream",
     "text": [
      "{'abdominal': 0, 'aortic': 75, 'aneurysm': 63, 'see': 1339, 'acanthamoeba': 5, 'infection': 813, 'ace': 9, 'adverse': 17, 'childhood': 289, 'experience': 548, 'acinetobacter': 10, 'acquire': 11, 'immune': 799, 'deficiency': 418, 'syndrome': 1514, 'aid': 36, 'hiv': 757, 'acute': 13, 'flaccid': 592, 'myelitis': 1028, 'afm': 28, 'adenovirus': 14, 'vaccination': 1649, 'adhd': 15, 'attention': 98, 'disorder': 456, 'adult': 16, 'afib': 27, 'af': 25, 'atrial': 97, 'fibrillation': 577, 'african': 29, 'trypanosomiasis': 1611, 'sleep': 1390, 'sickness': 1375, 'agricultural': 32, 'safety': 1300, 'farm': 564, 'worker': 1751, 'injury': 819, 'ahf': 35, 'alkhurma': 47, 'hemorrhagic': 739, 'fever': 576, 'al': 40, 'amyotrophic': 59, 'lateral': 880, 'sclerosis': 1321, 'alzheimer': 52, 'disease': 454, 'amebiasis': 54, 'intestinal': 829, 'entamoeba': 526, 'histolytica': 752, 'american': 56, 'indian': 807, 'alaska': 41, 'native': 1036, 'chagas': 271, 'amphibian': 58, 'fish': 591, 'anaplasmosis': 60, 'human': 778, 'ancylostoma': 61, 'duodenale': 490, 'necator': 1040, 'americanus': 57, 'hookworm': 763, 'angiostrongylus': 65, 'anisakiasis': 67, 'anisakis': 68, 'anthrax': 71, 'bacillus': 112, 'anthracis': 70, 'listing': 913, 'antibiotic': 72, 'antimicrobial': 74, 'resistance': 1249, 'use': 1647, 'appropriate': 77, 'also': 51, 'get': 666, 'smart': 1397, 'week': 1716, 'dissection': 460, 'arenavirus': 81, 'arthritis': 85, 'fibromyalgia': 578, 'gout': 682, 'osteoarthritis': 1098, 'oa': 1072, 'rheumatoid': 1254, 'ra': 1221, 'ascariasis': 86, 'ascaris': 87, 'aseptic': 88, 'meningitis': 966, 'viral': 1670, 'aspergillosis': 89, 'aspergillus': 90, 'asthma': 93, 'autism': 102, 'genetics': 662, 'genomics': 664, 'avian': 105, 'influenza': 817, 'cepacia': 266, 'burkholderia': 219, 'babesia': 109, 'babesiosis': 110, 'back': 113, 'belt': 142, 'ergonomic': 540, 'musculoskeletal': 1022, 'bacterial': 114, 'meningococcal': 967, 'vaginosis': 1652, 'bv': 224, 'balamuthia': 119, 'mandrillaris': 950, 'balantidiasis': 121, 'balantidium': 122, 'bartonella': 132, 'bacilliformis': 111, 'henselae': 741, 'carrión': 254, 'cat': 257, 'scratch': 1325, 'csd': 392, 'trench': 1595, 'quintana': 1220, 'baylisascaris': 134, 'raccoon': 1223, 'roundworm': 1283, 'bcg': 135, 'tuberculosis': 1614, 'vaccine': 1650, 'bilharzia': 148, 'schistosomiasis': 1319, 'bioterrorism': 151, 'bird': 152, 'flu': 601, 'birth': 153, 'defect': 417, 'black': 158, 'lung': 937, 'coal': 327, 'pneumoconioses': 1162, 'blastocystis': 162, 'hominis': 760, 'blastomycosis': 164, 'blastomyces': 163, 'dermatitidis': 426, 'blood': 170, 'clot': 322, 'body': 178, 'lice': 902, 'pediculus': 1135, 'humanus': 779, 'corporis': 367, 'borrelia': 182, 'burgdorferi': 218, 'lyme': 939, 'borreliosis': 183, 'relapse': 1244, 'botulism': 185, 'clostridium': 321, 'botulinum': 184, 'bovine': 187, 'spongiform': 1432, 'encephalopathy': 523, 'bse': 214, 'brainerd': 194, 'diarrhea': 438, 'breast': 198, 'ovarian': 1102, 'cancer': 236, 'family': 562, 'health': 720, 'history': 755, 'national': 1035, 'cervical': 269, 'early': 497, 'detection': 432, 'program': 1200, 'nbccedp': 1038, 'breastfeeding': 199, 'bronchiolitis': 210, 'respiratory': 1251, 'syncytial': 1513, 'virus': 1671, 'bronchitis': 211, 'brucella': 212, 'brucellosis': 213, 'mad': 944, 'cow': 374, 'bunyavirus': 216, 'mallei': 948, 'glanders': 669, 'pseudomallei': 1208, 'melioidosis': 965, 'herpes': 744, 'auris': 101, 'candida': 237, 'diff': 441, 'difficile': 442, 'gattii': 655, 'cryptococcosis': 389, 'neoformans': 1044, 'campy': 232, 'campylobacter': 233, 'campylobacteriosis': 234, 'colorectal': 341, 'colon': 338, 'gynecologic': 698, 'prostate': 1203, 'skin': 1385, 'disparity': 457, 'canine': 239, 'capillaria': 243, 'capillariasis': 244, 'enterobacteriaceae': 528, 'cre': 377, 'carbapenem': 249, 'resistant': 1250, 'klebsiella': 865, 'pneumonia': 1164, 'crkp': 382, 'pneumoniae': 1165, 'cardiovascular': 250, 'heart': 725, 'carpal': 252, 'tunnel': 1618, 'carrion': 253, 'flea': 598, 'tapeworm': 1525, 'dog': 465, 'pet': 1147, 'cchf': 260, 'cdi': 261, 'chronic': 297, 'indicator': 808, 'cercarial': 267, 'dermatitis': 427, 'swimmer': 1508, 'itch': 842, 'cerebral': 268, 'palsy': 1112, 'chaga': 270, 'trypanosoma': 1610, 'cruzi': 388, 'chapare': 276, 'chhf': 282, 'chest': 281, 'cold': 335, 'chickenpox': 284, 'varicella': 1657, 'chikungunya': 285, 'chikv': 286, 'overweight': 1107, 'obesity': 1073, 'child': 288, 'cough': 369, 'medicine': 963, 'chlamydia': 292, 'psittaci': 1210, 'psittacosis': 1211, 'trachomatis': 1583, 'cholera': 293, 'vibrio': 1667, 'cholerae': 294, 'prevention': 1192, 'fatigue': 571, 'myalgic': 1024, 'kidney': 862, 'ckd': 302, 'obstructive': 1075, 'pulmonary': 1216, 'copd': 364, 'traumatic': 1592, 'cte': 393, 'waste': 1690, 'cwd': 397, 'ciguatera': 299, 'poisoning': 1166, 'ciguatoxin': 300, 'marine': 954, 'toxin': 1577, 'cjd': 301, 'classic': 305, 'clonorchiasis': 317, 'clonorchis': 318, 'perfringens': 1138, 'tetani': 1541, 'tetanus': 1542, 'cmv': 326, 'cytomegalovirus': 407, 'coccidioidomycosis': 330, 'valley': 1653, 'common': 347, 'colorado': 340, 'tick': 1561, 'ctf': 394, 'control': 361, 'crccp': 376, 'concussion': 350, 'brain': 193, 'congenital': 353, 'hearing': 724, 'loss': 922, 'hear': 723, 'screen': 1326, 'critical': 381, 'conjunctivitis': 355, 'pink': 1153, 'eye': 555, 'cooley': 363, 'anemia': 62, 'corynebacterium': 368, 'diphtheriae': 445, 'diphtheria': 444, 'coxiella': 375, 'burnetii': 221, 'nairovirus': 1032, 'crohn': 383, 'inflammatory': 816, 'bowel': 188, 'cronobacter': 384, 'cryptosporidiosis': 390, 'cryptosporidium': 391, 'tbi': 1529, 'cyanobacterial': 398, 'algal': 46, 'illness': 796, 'harmful': 709, 'bloom': 171, 'hab': 699, 'cyclospora': 402, 'cyclosporiasis': 403, 'cysticercosis': 404, 'cystoisospora': 405, 'cystoisosporiasis': 406, 'death': 414, 'lead': 886, 'cause': 259, 'male': 947, 'deep': 416, 'vein': 1662, 'thrombosis': 1555, 'dvt': 491, 'dementia': 422, 'dengue': 423, 'dermatophyte': 428, 'ringworm': 1264, 'developmental': 435, 'disability': 452, 'diabetes': 436, 'dientamoeba': 439, 'fragilis': 621, 'diet': 440, 'nutrition': 1070, 'diphyllobothriasis': 446, 'diphyllobothrium': 447, 'dipylidium': 449, 'dirofilariasis': 450, 'heartworm': 727, 'division': 463, 'public': 1214, 'system': 1517, 'workforce': 1752, 'development': 434, 'dphswd': 474, 'bite': 154, 'trisomy': 1603, 'dracunculiasis': 475, 'guinea': 691, 'worm': 1753, 'drug': 485, 'dwarf': 493, 'hymenolepis': 788, 'coli': 336, 'escherichia': 544, 'ear': 496, 'otitis': 1099, 'medium': 964, 'intervention': 828, 'ehdi': 510, 'eastern': 502, 'equine': 539, 'encephalitis': 522, 'eee': 508, 'ebola': 503, 'evd': 546, 'ebv': 504, 'echinococcosis': 505, 'ehrlichiosis': 511, 'elephantiasis': 515, 'lymphatic': 940, 'filariasis': 585, 'elizabethkingia': 518, 'emerge': 520, 'infectious': 814, 'endophthalmitis': 524, 'fungal': 642, 'enteric': 527, 'animal': 66, 'gastrointestinal': 654, 'enterobius': 529, 'vermicularis': 1663, 'pinworm': 1154, 'enterovirus': 532, 'epidemic': 535, 'typhus': 1624, 'epilepsy': 537, 'esophageal': 545, 'candidiasis': 238, 'thrush': 1556, 'exserohilum': 552, 'rostratum': 1277, 'pathogenic': 1127, 'fungi': 643, 'mycotic': 1027, 'extensively': 553, 'tb': 1528, 'xdr': 1756, 'extreme': 554, 'hypothermia': 791, 'heat': 728, 'hyperthermia': 790, 'fall': 561, 'old': 1084, 'elevation': 516, 'rollover': 1276, 'protective': 1205, 'structure': 1480, 'crop': 385, 'fasciitis': 565, 'necrotizing': 1041, 'group': 690, 'strep': 1472, 'fasciola': 566, 'fascioliasis': 567, 'fasciolopsiasis': 568, 'fasciolopsis': 569, 'fetal': 574, 'alcohol': 43, 'spectrum': 1425, 'fetp': 575, 'field': 582, 'epidemiology': 536, 'train': 1585, 'fifth': 584, 'parvovirus': 1126, 'filovirus': 586, 'flavivirus': 596, 'murine': 1020, 'pandemic': 1115, 'seasonal': 1334, 'folliculitis': 610, 'hot': 766, 'tub': 1613, 'rash': 1232, 'foodborne': 611, 'fragile': 620, 'fxs': 645, 'francisella': 622, 'tularensis': 1617, 'tularemia': 1616, 'mold': 998, 'gae': 646, 'granulomatous': 683, 'amebic': 55, 'gas': 653, 'zoonotic': 1765, 'gb': 658, 'gdder': 659, 'global': 672, 'emergency': 521, 'response': 1252, 'mental': 969, 'stroke': 1477, 'genital': 663, 'vvc': 1680, 'vulvovaginal': 1679, 'simplex': 1380, 'wart': 1688, 'papillomavirus': 1116, 'german': 665, 'measles': 961, 'rubella': 1289, 'giardia': 667, 'giardiasis': 668, 'security': 1338, 'elimination': 517, 'immunization': 800, 'gnathostoma': 675, 'gnathostomiasis': 676, 'gonorrhea': 677, 'neisseria': 1043, 'gonorrhoeae': 678, 'streptococcal': 1474, 'uterine': 1648, 'vaginal': 1651, 'vulvar': 1678, 'variant': 1656, 'haemophilus': 700, 'influenzae': 818, 'serotype': 1346, 'hib': 750, 'hand': 703, 'foot': 612, 'mouth': 1012, 'hfmd': 749, 'hansen': 704, 'hantavirus': 705, 'hp': 771, 'hazardous': 717, 'exposure': 551, 'healthcare': 721, 'head': 719, 'louse': 926, 'capitis': 245, 'hepatitis': 742, 'std': 1455, 'healthy': 722, 'people': 1137, 'weight': 1717, 'impairment': 802, 'environmental': 534, 'heartland': 726, 'stress': 1476, 'hemoglobinopathy': 737, 'hemophilia': 738, 'treatment': 1594, 'center': 264, 'htc': 774, 'hendra': 740, 'hev': 748, 'hereditary': 743, 'bleeding': 168, 'herpesvirus': 745, 'simiae': 1379, 'zoster': 1766, 'shingle': 1364, 'heterophyes': 746, 'heterophyiasis': 747, 'high': 751, 'pressure': 1188, 'histoplasma': 753, 'capsulatum': 247, 'histoplasmosis': 754, 'horse': 764, 'pseudomonas': 1209, 'hpiv': 772, 'parainfluenza': 1119, 'hpv': 773, 'immunodeficiency': 801, 'hypertension': 789, 'ibd': 792, 'immpact': 798, 'international': 827, 'micronutrient': 983, 'malnutrition': 949, 'impetigo': 804, 'mononucleosis': 1004, 'infertility': 815, 'risk': 1265, 'swine': 1510, 'pig': 1151, 'swimming': 1509, 'recreational': 1239, 'water': 1692, 'ameba': 53, 'nonpathogenic': 1062, 'harmless': 710, 'protozoa': 1206, 'invasive': 830, 'isospora': 838, 'jamestown': 845, 'canyon': 241, 'japanese': 846, 'je': 848, 'jaundice': 847, 'newborn': 1049, 'leishmania': 894, 'kawasaki': 855, 'kd': 856, 'keratitis': 859, 'kernicterus': 860, 'kfd': 861, 'kyasanur': 867, 'forest': 618, 'lac': 869, 'la': 868, 'crosse': 387, 'lacv': 870, 'lassa': 877, 'latex': 881, 'allergy': 48, 'lbrf': 884, 'lcm': 885, 'lymphocytic': 942, 'choriomeningitis': 296, 'legionellosis': 892, 'legionnaire': 893, 'leishmaniasis': 895, 'leprosy': 896, 'leptospira': 897, 'leptospirosis': 898, 'pubic': 1213, 'listeria': 911, 'listeriosis': 912, 'liver': 915, 'loa': 916, 'loiasis': 919, 'lockjaw': 918, 'lou': 923, 'gehrig': 661, 'relapsing': 1245, 'luhf': 933, 'lujo': 934, 'lupus': 938, 'sle': 1389, 'systemic': 1518, 'erythematosus': 543, 'lymphedema': 941, 'mac': 943, 'mycobacterium': 1025, 'avium': 106, 'complex': 349, 'malaria': 946, 'marburg': 953, 'md': 959, 'muscular': 1021, 'dystrophy': 495, 'mdr': 960, 'retardation': 1253, 'middle': 985, 'east': 501, 'coronavirus': 365, 'methicillin': 978, 'staphylococcus': 1447, 'aureus': 100, 'mrsa': 1013, 'microalgal': 979, 'microcephaly': 980, 'zika': 1763, 'pregnancy': 1186, 'microsporidia': 984, 'cov': 371, 'mmr': 995, 'molluscum': 999, 'contagiosum': 358, 'monkey': 1002, 'monkeypox': 1003, 'motor': 1009, 'vehicle': 1661, 'mouse': 1011, 'rat': 1233, 'rodent': 1273, 'mucormycosis': 1014, 'mucus': 1015, 'multiple': 1018, 'organ': 1095, 'dysfunction': 494, 'sepsis': 1343, 'mumps': 1019, 'abscessus': 3, 'mycoplasma': 1026, 'myelomeningocele': 1029, 'spina': 1428, 'bifida': 146, 'myiasis': 1030, 'naegleria': 1031, 'primary': 1196, 'meningoencephalitis': 968, 'pam': 1113, 'registry': 1242, 'neglected': 1042, 'tropical': 1605, 'ntd': 1069, 'neurocysticercosis': 1048, 'nocardia': 1059, 'asteroides': 92, 'nocardiosis': 1060, 'noise': 1061, 'norovirus': 1064, 'nlv': 1058, 'novel': 1066, 'occupational': 1078, 'condition': 351, 'ohf': 1082, 'omsk': 1085, 'onchocerciasis': 1086, 'river': 1266, 'blindness': 169, 'opisthorchis': 1089, 'oral': 1092, 'orf': 1094, 'sore': 1420, 'oropharyngeal': 1097, 'outbreak': 1100, 'pad': 1109, 'peripheral': 1139, 'arterial': 84, 'paragonimiasis': 1117, 'paragonimus': 1118, 'parasitic': 1121, 'pcp': 1130, 'pneumocystis': 1163, 'pcv': 1131, 'pneumococcal': 1161, 'conjugate': 354, 'pe': 1132, 'embolism': 519, 'pedestrian': 1134, 'pelvic': 1136, 'pid': 1150, 'insufficiency': 823, 'occlusive': 1077, 'vascular': 1659, 'pertussis': 1144, 'whooping': 1729, 'phthiriasis': 1149, 'plague': 1155, 'yersinia': 1761, 'pestis': 1146, 'polysaccharide': 1171, 'ppv': 1182, 'carinii': 251, 'jirovecii': 850, 'previously': 1194, 'polio': 1168, 'poliomyelitis': 1169, 'pontiac': 1174, 'powassan': 1180, 'pow': 1179, 'poxvirus': 1181, 'prion': 1197, 'transmissible': 1588, 'aeruginosa': 24, 'psoriasis': 1212, 'rabies': 1222, 'rbf': 1235, 'streptobacillus': 1473, 'moniliformis': 1001, 'recall': 1237, 'rwi': 1298, 'tbrf': 1530, 'rsv': 1286, 'rickettsia': 1256, 'spot': 1435, 'spotted': 1436, 'rickettsial': 1257, 'rickettsii': 1258, 'rocky': 1272, 'mountain': 1010, 'rift': 1261, 'rvf': 1297, 'rmsf': 1268, 'rotavirus': 1278, 'rubeola': 1290, 'runny': 1296, 'nose': 1065, 'salmonella': 1304, 'salmonellosis': 1305, 'typhi': 1621, 'typhoid': 1622, 'salt': 1306, 'sappinia': 1309, 'diploidea': 448, 'pedata': 1133, 'sars': 1310, 'severe': 1351, 'scabies': 1313, 'scarlet': 1315, 'schistosoma': 1318, 'scrub': 1327, 'seizure': 1341, 'septicemia': 1345, 'septic': 1344, 'shock': 1367, 'sexually': 1353, 'transmit': 1589, 'syphilis': 1516, 'treponema': 1596, 'pallidum': 1111, 'trichomoniasis': 1601, 'trichomonas': 1600, 'transmitted': 1590, 'surveillance': 1506, 'report': 1248, 'sfgr': 1354, 'shiga': 1360, 'stec': 1457, 'shigella': 1361, 'shigellosis': 1362, 'vzv': 1682, 'sickle': 1374, 'cell': 263, 'sids': 1377, 'sudden': 1485, 'infant': 812, 'sinus': 1381, 'sinusitus': 1382, 'smallpox': 1396, 'smoking': 1401, 'tobacco': 1569, 'sodium': 1413, 'soil': 1416, 'helminth': 736, 'throat': 1553, 'southern': 1423, 'stari': 1448, 'spirillum': 1429, 'minus': 991, 'sporothrix': 1433, 'schenckii': 1317, 'sporotrichosis': 1434, 'staph': 1446, 'streptococcus': 1475, 'strongyloidiasis': 1479, 'strongyloides': 1478, 'symptom': 1512, 'relief': 1247, 'upper': 1645, 'taenia': 1521, 'coinfection': 333, 'communtiy': 348, 'data': 410, 'statistic': 1453, 'education': 507, 'training': 1586, 'network': 1047, 'test': 1539, 'diagnosis': 437, 'testicular': 1540, 'thalassemia': 1543, 'thoracic': 1551, 'thrombophilia': 1554, 'tickborne': 1562, 'tinea': 1568, 'smoke': 1400, 'tourette': 1576, 'toxocara': 1578, 'toxocariasis': 1579, 'toxoplasma': 1580, 'toxoplasmosis': 1581, 'trachoma': 1582, 'trichinellosis': 1598, 'trichinosis': 1599, 'trichuriasis': 1602, 'whipworm': 1725, 'ulcerative': 1625, 'colitis': 337, 'undulant': 1632, 'unexplained': 1633, 'urdo': 1646, 'universal': 1638, 'enterococci': 530, 'vre': 1677, 'vcjd': 1660, 'viruses': 1672, 'variola': 1658, 'major': 945, 'minor': 990, 'vhf': 1665, 'vibriosis': 1668, 'vision': 1674, 'von': 1675, 'willebrand': 1732, 'vwd': 1681, 'west': 1719, 'nile': 1053, 'wnv': 1746, 'whitmore': 1727, 'wildlife': 1731, 'winter': 1740, 'storm': 1464, 'bleed': 167, 'yeast': 1759, 'yellow': 1760, 'enterocolitica': 531, 'yersiniosis': 1762, 'zygomycosis': 1767, 'drizzle': 481, 'temperature': 1536, 'weather': 1696, 'drought': 483, 'dry': 488, 'eddy': 506, 'flash': 595, 'flood': 599, 'flurry': 602, 'fog': 606, 'forecast': 615, 'freeze': 626, 'frost': 635, 'fujita': 641, 'scale': 1314, 'funnel': 644, 'cloud': 323, 'gale': 649, 'warming': 1686, 'greenhouse': 687, 'effect': 509, 'gust': 696, 'humid': 780, 'humidity': 782, 'hurricane': 784, 'hydrologic': 785, 'cycle': 399, 'hydrosphere': 786, 'hygrometer': 787, 'meteorologist': 976, 'meteorology': 977, 'monsoon': 1005, 'normal': 1063, 'newscast': 1050, 'overcast': 1103, 'ozone': 1108, 'permafrost': 1141, 'polar': 1167, 'precipitation': 1184, 'prevail': 1189, 'wind': 1734, 'radar': 1224, 'rain': 1227, 'rainbow': 1228, 'gauge': 656, 'shadow': 1355, 'shower': 1370, 'sky': 1386, 'sleet': 1391, 'smog': 1399, 'snow': 1404, 'snowfall': 1406, 'snowflake': 1407, 'snowstorm': 1408, 'squall': 1440, 'steam': 1456, 'stratosphere': 1468, 'stratus': 1469, 'super': 1502, 'temperate': 1535, 'thaw': 1544, 'thermal': 1545, 'thermometer': 1546, 'thunder': 1557, 'thunderstorm': 1559, 'tornado': 1573, 'troposphere': 1606, 'trough': 1608, 'turbulence': 1619, 'typhoon': 1623, 'updraft': 1644, 'vapour': 1655, 'visibility': 1673, 'vortex': 1676, 'warm': 1684, 'warn': 1687, 'watch': 1691, 'wave': 1694, 'vane': 1654, 'whiteout': 1726, 'chill': 290, 'factor': 559, 'zone': 1764, 'wet': 1721, 'weatherproof': 1708, 'inclement': 806, 'shelter': 1359, 'clemency': 307, 'climate': 310, 'snap': 1402, 'shine': 1363, 'fair': 560, 'rough': 1280, 'raw': 1234, 'clement': 308, 'weatherman': 1706, 'overcoat': 1104, 'summer': 1489, 'barometer': 130, 'around': 83, 'balmy': 125, 'unseasonable': 1640, 'weatherworn': 1713, 'calm': 228, 'foul': 619, 'bleak': 165, 'sharp': 1356, 'boisterous': 180, 'element': 514, 'dirty': 451, 'sticky': 1459, 'meteorological': 975, 'muggy': 1017, 'break': 197, 'hardy': 708, 'pleasant': 1158, 'weatherize': 1704, 'jack': 844, 'fine': 588, 'pothole': 1177, 'spell': 1427, 'clime': 315, 'nippy': 1056, 'clear': 306, 'deadlight': 413, 'arctic': 79, 'low': 928, 'door': 470, 'sultry': 1488, 'isobar': 835, 'meteoric': 971, 'station': 1452, 'isothermal': 841, 'weathercock': 1701, 'trial': 1597, 'balloon': 124, 'bowline': 189, 'isotherm': 840, 'crisp': 380, 'fresh': 629, 'climatology': 313, 'house': 768, 'mild': 988, 'rainy': 1230, 'drippy': 480, 'lee': 889, 'tack': 1519, 'overshoe': 1105, 'parky': 1124, 'heatwave': 731, 'foghorn': 608, 'doldrums': 468, 'squally': 1441, 'hold': 759, 'gnarl': 674, 'torrid': 1574, 'astrometeorology': 95, 'sundress': 1493, 'sunshine': 1499, 'snowsuit': 1409, 'winterize': 1742, 'lower': 929, 'fiddle': 580, 'season': 1332, 'map': 952, 'serve': 1347, 'ridge': 1260, 'hovel': 770, 'tee': 1531, 'expose': 550, 'pimpernel': 1152, 'weder': 1715, 'wthr': 1754, 'sullen': 1487, 'wea': 1695, 'wetness': 1723, 'wether': 1722, 'distemper': 461, 'brisk': 207, 'beastly': 137, 'service': 1348, 'bureau': 217, 'dull': 489, 'close': 319, 'soft': 1414, 'windy': 1739, 'parka': 1123, 'showery': 1371, 'luff': 932, 'microclimate': 981, 'fane': 563, 'clammy': 303, 'climatic': 311, 'jupiter': 854, 'dreich': 478, 'slatch': 1388, 'tender': 1537, 'frontal': 634, 'rude': 1291, 'change': 272, 'unsettled': 1642, 'snug': 1411, 'anticyclone': 73, 'forecaster': 616, 'advisory': 19, 'depression': 425, 'chapped': 278, 'rejoint': 1243, 'benign': 143, 'blustery': 176, 'signal': 1378, 'corp': 366, 'lifeline': 905, 'destroy': 431, 'angel': 64, 'meteorograph': 973, 'oppressive': 1091, 'sconce': 1322, 'gumshoe': 692, 'filthy': 587, 'spring': 1439, 'airish': 38, 'chart': 279, 'chap': 275, 'glorious': 673, 'snowy': 1410, 'rigorous': 1263, 'threaten': 1552, 'tropic': 1604, 'parch': 1122, 'almanac': 49, 'hard': 707, 'gossamer': 681, 'fierce': 583, 'brave': 196, 'micrometeorology': 982, 'open': 1088, 'spatterdash': 1424, 'winterkill': 1743, 'teletext': 1534, 'window': 1736, 'neoprene': 1045, 'radome': 1225, 'studdingsail': 1482, 'journal': 852, 'taut': 1527, 'helm': 735, 'weatherperson': 1707, 'subject': 1484, 'trysail': 1612, 'rugged': 1295, 'relent': 1246, 'wild': 1730, 'box': 190, 'bitter': 156, 'biting': 155, 'rigor': 1262, 'cock': 331, 'queen': 1218, 'haymaker': 716, 'flaw': 597, 'grey': 688, 'frostbite': 636, 'frostbiting': 637, 'met': 970, 'office': 1080, 'stormy': 1467, 'stercorary': 1458, 'topside': 1572, 'nasty': 1034, 'settle': 1350, 'permit': 1142, 'rafty': 1226, 'fickle': 579, 'blackthorn': 160, 'biometeorology': 150, 'sock': 1412, 'frosty': 639, 'occlude': 1076, 'intemperate': 824, 'sea': 1330, 'leg': 890, 'intensely': 826, 'nowcast': 1067, 'come': 343, 'sandal': 1308, 'lift': 906, 'sentry': 1342, 'soppy': 1419, 'lat': 879, 'dribble': 479, 'beautiful': 139, 'touch': 1575, 'long': 920, 'underwear': 1631, 'soupy': 1421, 'sulky': 1486, 'stop': 1462, 'aweather': 107, 'flysheet': 605, 'bake': 118, 'mutable': 1023, 'call': 227, 'mother': 1008, 'nature': 1037, 'acclimatize': 6, 'agrometeorology': 34, 'brightness': 205, 'weathermaker': 1705, 'hellish': 734, 'beam': 136, 'set': 1349, 'thundery': 1560, 'trapdoor': 1591, 'chilblain': 287, 'panama': 1114, 'thor': 1550, 'inequality': 811, 'blackberry': 159, 'brass': 195, 'glass': 671, 'sail': 1301, 'try': 1609, 'intemperateness': 825, 'nw': 1071, 'sour': 1422, 'earmuff': 498, 'nip': 1055, 'dw': 492, 'treacherous': 1593, 'havelock': 715, 'prickly': 1195, 'observatory': 1074, 'anorak': 69, 'isallobar': 833, 'roller': 1275, 'mildness': 989, 'frightful': 631, 'weathervane': 1709, 'superstorm': 1503, 'inversion': 831, 'bare': 129, 'impassable': 803, 'shrewd': 1372, 'scorch': 1323, 'aerography': 20, 'wwd': 1755, 'ice': 793, 'sunsuit': 1501, 'fraxinella': 623, 'spoil': 1430, 'ship': 1365, 'lull': 936, 'summery': 1490, 'bluster': 175, 'weatherwiser': 1712, 'weathergaw': 1702, 'dodger': 464, 'muffler': 1016, 'misty': 994, 'tarpaulin': 1526, 'sunny': 1496, 'rotten': 1279, 'propitious': 1202, 'perish': 1140, 'term': 1538, 'weathery': 1714, 'lithe': 914, 'quiet': 1219, 'el': 512, 'niño': 1057, 'dogvane': 466, 'rowport': 1284, 'xystus': 1758, 'polytunnel': 1172, 'biome': 149, 'unplayable': 1639, 'keep': 857, 'night': 1052, 'dreadnought': 477, 'moist': 997, 'lewth': 901, 'jib': 849, 'asperity': 91, 'atmosphere': 96, 'weatherward': 1710, 'uncertain': 1627, 'breme': 201, 'greasy': 685, 'changeable': 273, 'blowy': 172, 'big': 147, 'bland': 161, 'agreeable': 31, 'choppy': 295, 'xerophilous': 1757, 'pome': 1173, 'apache': 76, 'scrumptious': 1328, 'feel': 573, 'weatherboard': 1697, 'lash': 876, 'good': 679, 'stain': 1445, 'quarterdeck': 1217, 'shirtsleeve': 1366, 'moderate': 996, 'swanndri': 1507, 'contrary': 360, 'beat': 138, 'climatological': 312, 'drawky': 476, 'galoshe': 651, 'sunstroke': 1500, 'damn': 409, 'flow': 600, 'boil': 179, 'rock': 1270, 'face': 558, 'seedy': 1340, 'front': 633, 'unstable': 1643, 'rudeness': 1292, 'nimbiferous': 1054, 'check': 280, 'harsh': 711, 'slicker': 1394, 'abominable': 1, 'unfine': 1635, 'breeder': 200, 'meteorologic': 974, 'cumulus': 395, 'humilis': 783, 'hask': 712, 'bitterly': 157, 'contact': 357, 'round': 1282, 'albeit': 42, 'favourable': 572, 'depress': 424, 'prognosis': 1199, 'uncovered': 1629, 'deck': 415, 'comment': 345, 'ski': 1384, 'housebound': 769, 'halcyon': 702, 'drumlie': 486, 'dogwood': 467, 'brighten': 204, 'bleakness': 166, 'vile': 1669, 'topcoat': 1571, 'orographic': 1096, 'nastiness': 1033, 'indolent': 809, 'arid': 82, 'hughie': 776, 'sunblind': 1492, 'scorcher': 1324, 'seasonable': 1333, 'bring': 206, 'wintry': 1745, 'wilt': 1733, 'weathercast': 1699, 'cross': 386, 'fasten': 570, 'flush': 603, 'hail': 701, 'held': 733, 'refuge': 1240, 'droughtiness': 484, 'rainstorm': 1229, 'airsome': 39, 'weatherwise': 1711, 'softness': 1415, 'tidy': 1564, 'barbecue': 128, 'bright': 203, 'something': 1418, 'overweather': 1106, 'weathercaster': 1700, 'eyebright': 556, 'weathergirl': 1703, 'despise': 430, 'roughness': 1281, 'stark': 1449, 'green': 686, 'time': 1566, 'frenemy': 628, 'lowery': 930, 'stream': 1470, 'climature': 314, 'aeroscopy': 23, 'abrupt': 2, 'shed': 1358, 'gusty': 697, 'unfavourable': 1634, 'troppo': 1607, 'teleconnection': 1532, 'ruffle': 1293, 'thirsty': 1549, 'combination': 342, 'synoptic': 1515, 'accord': 7, 'absolute': 4, 'bracing': 192, 'coat': 329, 'streamline': 1471, 'dehydrate': 420, 'seakeeping': 1331, 'flag': 593, 'unfriendly': 1637, 'wash': 1689, 'oppress': 1090, 'look': 921, 'balance': 120, 'winterless': 1744, 'cape': 242, 'camber': 230, 'undercoat': 1630, 'shoepac': 1368, 'doppler': 471, 'campeachy': 231, 'hat': 713, 'snowbound': 1405, 'stormstayed': 1466, 'disagree': 453, 'blowzed': 173, 'midwinter': 987, 'chilly': 291, 'col': 334, 'lag': 871, 'kennel': 858, 'waterproof': 1693, 'heatstroke': 730, 'frozen': 640, 'frostjacking': 638, 'cloudy': 324, 'downdraft': 473, 'hothouse': 767, 'chub': 298, 'rub': 1287, 'bermuda': 144, 'short': 1369, 'drizzly': 482, 'air': 37, 'lay': 883, 'day': 412, 'erosion': 542, 'disposition': 459, 'weatherboarding': 1698, 'well': 1718, 'winterbourne': 1741, 'alert': 44, 'kindliness': 864, 'taint': 1522, 'commentator': 346, 'midsummer': 986, 'royet': 1285, 'sailor': 1302, 'st': 1444, 'luke': 935, 'martin': 955, 'sizzle': 1383, 'contingent': 359, 'brace': 191, 'roll': 1274, 'tackle': 1520, 'persistence': 1143, 'parapegma': 1120, 'boulder': 186, 'country': 370, 'damage': 408, 'dittany': 462, 'hood': 762, 'woodhouse': 1748, 'idigbo': 794, 'item': 843, 'humidex': 781, 'heavy': 732, 'coarse': 328, 'cyclic': 400, 'clench': 309, 'chapeau': 277, 'stonking': 1461, 'instrument': 822, 'plus': 1159, 'mass': 957, 'aprilesque': 78, 'speed': 1426, 'meteorobiology': 972, 'john': 851, 'lour': 925, 'erode': 541, 'evil': 547, 'warmer': 1685, 'bumpy': 215, 'heater': 729, 'car': 248, 'creosote': 379, 'broch': 208, 'lown': 931, 'lantern': 874, 'indra': 810, 'letty': 900, 'isohel': 836, 'nowcasting': 1068, 'honeydew': 761, 'unseasonably': 1641, 'squaw': 1442, 'rug': 1294, 'casual': 256, 'ceiling': 262, 'dormouse': 472, 'freezeproof': 627, 'force': 614, 'gambado': 652, 'surly': 1505, 'thunderbird': 1558, 'spraydeck': 1437, 'smile': 1398, 'record': 1238, 'dismal': 455, 'onshore': 1087, 'cog': 332, 'lid': 903, 'subarid': 1483, 'gaff': 647, 'severity': 1352, 'bus': 222, 'nesh': 1046, 'unchanging': 1628, 'thicken': 1548, 'polyester': 1170, 'lock': 917, 'cagoule': 225, 'invest': 832, 'immobilize': 797, 'superstructure': 1504, 'dingle': 443, 'cloche': 316, 'like': 909, 'wan': 1683, 'freakish': 624, 'broil': 209, 'boathouse': 177, 'button': 223, 'stoppage': 1463, 'side': 1376, 'porch': 1175, 'proof': 1201, 'engineering': 525, 'snivel': 1403, 'gear': 660, 'date': 411, 'outside': 1101, 'saint': 1303, 'algae': 45, 'windstorm': 1738, 'track': 1584, 'centre': 265, 'slick': 1393, 'gunhouse': 694, 'still': 1460, 'frigid': 632, 'galosh': 650, 'hazy': 718, 'gray': 684, 'let': 899, 'sleety': 1392, 'affect': 26, 'tide': 1563, 'bask': 133, 'baltic': 126, 'ease': 500, 'equable': 538, 'caprice': 246, 'legging': 891, 'preservation': 1187, 'badness': 116, 'ball': 123, 'tin': 1567, 'pest': 1145, 'confluent': 352, 'turlough': 1620, 'hitherto': 756, 'oilskin': 1083, 'sb': 1312, 'autumnal': 104, 'rick': 1255, 'comforter': 344, 'science': 1320, 'cover': 372, 'behave': 141, 'sponge': 1431, 'rubber': 1288, 'beef': 140, 'road': 1269, 'aeromancer': 21, 'isothere': 839, 'soliterraneous': 1417, 'predominantly': 1185, 'area': 80, 'martinmas': 956, 'fiddley': 581, 'hatch': 714, 'unflyable': 1636, 'drumly': 487, 'earthquake': 499, 'lappet': 875, 'insensitive': 821, 'stucco': 1481, 'lifeboat': 904, 'tierra': 1565, 'caliente': 226, 'kind': 863, 'degrade': 419, 'riviera': 1267, 'bridge': 202, 'hoar': 758, 'gun': 693, 'lounger': 924, 'astrology': 94, 'portlet': 1176, 'state': 1451, 'awning': 108, 'word': 1749, 'leather': 888, 'forbid': 613, 'domino': 469, 'consideration': 356, 'account': 8, 'umbrella': 1626, 'bluebird': 174, 'windiness': 1735, 'bag': 117, 'land': 873, 'mat': 958, 'telemetry': 1533, 'cyclone': 401, 'isohyet': 837, 'miserable': 992, 'rockaway': 1271, 'thick': 1547, 'seaworthy': 1337, 'seaworthiness': 1336, 'case': 255, 'clamp': 304, 'gurly': 695, 'iffy': 795, 'patio': 1129, 'seat': 1335, 'autumn': 103, 'leaf': 887, 'jumper': 853, 'stay': 1454, 'plant': 1156, 'aeromancy': 22, 'transition': 1587, 'desert': 429, 'canopy': 240, 'deteriorate': 433, 'gaydiang': 657, 'whole': 1728, 'pluvial': 1160, 'sunkissed': 1494, 'tanned': 1524, 'sunbelt': 1491, 'agrometeorological': 33, 'flannery': 594, 'closeness': 320, 'forecastle': 617, 'gritter': 689, 'pour': 1178, 'badlands': 115, 'wheel': 1724, 'aftercast': 30, 'salvage': 1307, 'register': 1241, 'plate': 1157, 'newspaper': 1051, 'ocean': 1079, 'vessel': 1664, 'dispatcher': 458, 'sunlounger': 1495, 'patina': 1128, 'cluster': 325, 'fly': 604, 'shatter': 1357, 'swivel': 1511, 'sunrise': 1497, 'windscreen': 1737, 'goosewing': 680, 'procellarian': 1198, 'stormglass': 1465, 'westness': 1720, 'cool': 362, 'gage': 648, 'banality': 127, 'scupper': 1329, 'petrel': 1148, 'mist': 993, 'http': 775, 'ssw': 1443, 'kpa': 866, 'vi': 1666, 'hum': 777, 'many': 951, 'prevent': 1190, 'delay': 421, 'wonderfully': 1747, 'creepy': 378, 'foggy': 607, 'fogwhisperers': 609, 'glasgow': 670, 'friday': 630, 'first': 590, 'light': 907, 'chicago': 283, 'harbor': 706, 'lighthouse': 908, 'morning': 1007, 'hospitalization': 765, 'canada': 235, 'attribute': 99, 'entirely': 533, 'current': 396, 'important': 805, 'take': 1523, 'preventative': 1191, 'measure': 962, 'particularly': 1125, 'month': 1006, 'lather': 882, 'monday': 1000, 'orange': 1093, 'sunset': 1498, 'paint': 1110, 'facade': 557, 'skyline': 1387, 'channel': 274, 'inner': 820, 'barrybutler': 131, 'pre': 1183, 'election': 513, 'schaumburg': 1316, 'last': 878, 'tuesday': 1615, 'start': 1450, 'linger': 910, 'color': 339, 'along': 50, 'lakefront': 872, 'puerto': 1215, 'rico': 1259, 'provide': 1207, 'free': 625, 'rapid': 1231, 'toll': 1570, 'booth': 181, 'across': 12, 'island': 834, 'bid': 145, 'slow': 1395, 'official': 1081, 'say': 1311, 'ncezid': 1039, 'work': 1750, 'protect': 1204, 'expert': 549, 'advice': 18, 'burn': 220, 'calorie': 229, 'reason': 1236, 'sick': 1373, 'cathing': 258, 'love': 927, 'covid': 373, 'spread': 1438, 'fire': 589, 'preventive': 1193, 'safe': 1299}\n"
     ]
    }
   ],
   "source": [
    "print(Tfidf_vect.vocabulary_)"
   ]
  },
  {
   "cell_type": "code",
   "execution_count": 21,
   "metadata": {},
   "outputs": [
    {
     "name": "stdout",
     "output_type": "stream",
     "text": [
      "  (0, 1037)\t0.6881368426388584\n",
      "  (0, 1008)\t0.7255809298782755\n",
      "  (1, 891)\t1.0\n",
      "  (2, 343)\t1.0\n",
      "  (3, 1021)\t0.5773502691896257\n",
      "  (3, 959)\t0.5773502691896257\n",
      "  (3, 495)\t0.5773502691896257\n",
      "  (4, 329)\t0.6881368426388584\n",
      "  (4, 202)\t0.7255809298782755\n",
      "  (5, 751)\t1.0\n",
      "  (6, 120)\t1.0\n",
      "  (7, 963)\t0.6472955869419706\n",
      "  (7, 369)\t0.5736928936546131\n",
      "  (7, 335)\t0.5018813474275035\n",
      "  (8, 1752)\t0.393381259223571\n",
      "  (8, 1517)\t0.38112798735001885\n",
      "  (8, 1214)\t0.393381259223571\n",
      "  (8, 720)\t0.28460038952347194\n",
      "  (8, 474)\t0.393381259223571\n",
      "  (8, 463)\t0.393381259223571\n",
      "  (8, 434)\t0.393381259223571\n",
      "  (9, 662)\t0.5604761097288613\n",
      "  (9, 341)\t0.6757248291781577\n",
      "  (9, 236)\t0.4788136230887246\n",
      "  (10, 1339)\t0.24479753218172423\n",
      "  :\t:\n",
      "  (1873, 1339)\t0.19986764750024993\n",
      "  (1874, 1749)\t1.0\n",
      "  (1875, 1339)\t0.13942766600905102\n",
      "  (1875, 1200)\t0.3314517534623518\n",
      "  (1875, 1038)\t0.38876988414533614\n",
      "  (1875, 1035)\t0.36211847112069867\n",
      "  (1875, 497)\t0.3375968726273448\n",
      "  (1875, 432)\t0.32595475705370675\n",
      "  (1875, 269)\t0.36211847112069867\n",
      "  (1875, 236)\t0.24985412778747784\n",
      "  (1875, 198)\t0.3375968726273448\n",
      "  (1875, 51)\t0.24633549961816018\n",
      "  (1876, 1649)\t0.5900480730463082\n",
      "  (1876, 71)\t0.8073681139940682\n",
      "  (1877, 532)\t1.0\n",
      "  (1878, 1752)\t0.417142206852857\n",
      "  (1878, 1517)\t0.4041488149444829\n",
      "  (1878, 1339)\t0.07780537376848021\n",
      "  (1878, 1214)\t0.417142206852857\n",
      "  (1878, 720)\t0.3017907736411311\n",
      "  (1878, 474)\t0.2085711034264285\n",
      "  (1878, 463)\t0.417142206852857\n",
      "  (1878, 434)\t0.417142206852857\n",
      "  (1879, 1056)\t1.0\n",
      "  (1880, 784)\t1.0\n"
     ]
    }
   ],
   "source": [
    "print(Train_X_Tfidf)"
   ]
  },
  {
   "cell_type": "code",
   "execution_count": 22,
   "metadata": {},
   "outputs": [
    {
     "name": "stdout",
     "output_type": "stream",
     "text": [
      "Naive Bayes Accuracy Score ->  94.73684210526315\n"
     ]
    }
   ],
   "source": [
    "# fit the training dataset on the NB classifier\n",
    "Naive = naive_bayes.MultinomialNB()\n",
    "Naive.fit(Train_X_Tfidf,Train_Y)\n",
    "# predict the labels on validation dataset\n",
    "predictions_NB = Naive.predict(Test_X_Tfidf)\n",
    "# Use accuracy_score function to get the accuracy\n",
    "print(\"Naive Bayes Accuracy Score -> \",accuracy_score(predictions_NB, Test_Y)*100)"
   ]
  },
  {
   "cell_type": "code",
   "execution_count": 23,
   "metadata": {},
   "outputs": [
    {
     "name": "stdout",
     "output_type": "stream",
     "text": [
      "SVM Accuracy Score ->  94.73684210526315\n"
     ]
    }
   ],
   "source": [
    "# Classifier - Algorithm - SVM\n",
    "# fit the training dataset on the classifier\n",
    "SVM = svm.SVC(C=1.0, kernel='linear', degree=3, gamma='auto')\n",
    "SVM.fit(Train_X_Tfidf,Train_Y)\n",
    "# predict the labels on validation dataset\n",
    "predictions_SVM = SVM.predict(Test_X_Tfidf)\n",
    "# Use accuracy_score function to get the accuracy\n",
    "print(\"SVM Accuracy Score -> \",accuracy_score(predictions_SVM, Test_Y)*100)"
   ]
  },
  {
   "cell_type": "code",
   "execution_count": null,
   "metadata": {},
   "outputs": [],
   "source": []
  },
  {
   "cell_type": "code",
   "execution_count": null,
   "metadata": {},
   "outputs": [],
   "source": []
  }
 ],
 "metadata": {
  "kernelspec": {
   "display_name": "Python 3",
   "language": "python",
   "name": "python3"
  },
  "language_info": {
   "codemirror_mode": {
    "name": "ipython",
    "version": 3
   },
   "file_extension": ".py",
   "mimetype": "text/x-python",
   "name": "python",
   "nbconvert_exporter": "python",
   "pygments_lexer": "ipython3",
   "version": "3.8.5"
  }
 },
 "nbformat": 4,
 "nbformat_minor": 4
}
