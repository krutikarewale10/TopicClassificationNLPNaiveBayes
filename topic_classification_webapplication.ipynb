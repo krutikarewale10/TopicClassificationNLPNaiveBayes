{
 "cells": [
  {
   "cell_type": "code",
   "execution_count": 1,
   "metadata": {},
   "outputs": [],
   "source": [
    "import urllib.request\n",
    "import os\n",
    "import pandas as pd\n",
    "import numpy as np\n",
    "from nltk.tokenize import RegexpTokenizer\n",
    "from nltk.stem.porter import PorterStemmer\n",
    "from nltk.corpus import stopwords"
   ]
  },
  {
   "cell_type": "code",
   "execution_count": 2,
   "metadata": {},
   "outputs": [
    {
     "data": {
      "text/html": [
       "<div>\n",
       "<style scoped>\n",
       "    .dataframe tbody tr th:only-of-type {\n",
       "        vertical-align: middle;\n",
       "    }\n",
       "\n",
       "    .dataframe tbody tr th {\n",
       "        vertical-align: top;\n",
       "    }\n",
       "\n",
       "    .dataframe thead th {\n",
       "        text-align: right;\n",
       "    }\n",
       "</style>\n",
       "<table border=\"1\" class=\"dataframe\">\n",
       "  <thead>\n",
       "    <tr style=\"text-align: right;\">\n",
       "      <th></th>\n",
       "      <th>Text</th>\n",
       "      <th>Type</th>\n",
       "    </tr>\n",
       "  </thead>\n",
       "  <tbody>\n",
       "    <tr>\n",
       "      <th>0</th>\n",
       "      <td>Abdominal Aortic Aneurysm — see Aortic Aneurysm</td>\n",
       "      <td>Disease</td>\n",
       "    </tr>\n",
       "    <tr>\n",
       "      <th>1</th>\n",
       "      <td>Acanthamoeba Infection</td>\n",
       "      <td>Disease</td>\n",
       "    </tr>\n",
       "    <tr>\n",
       "      <th>2</th>\n",
       "      <td>ACE (Adverse Childhood Experiences)</td>\n",
       "      <td>Disease</td>\n",
       "    </tr>\n",
       "  </tbody>\n",
       "</table>\n",
       "</div>"
      ],
      "text/plain": [
       "                                              Text     Type\n",
       "0  Abdominal Aortic Aneurysm — see Aortic Aneurysm  Disease\n",
       "1                           Acanthamoeba Infection  Disease\n",
       "2              ACE (Adverse Childhood Experiences)  Disease"
      ]
     },
     "execution_count": 2,
     "metadata": {},
     "output_type": "execute_result"
    }
   ],
   "source": [
    "df = pd.read_excel(open(\"C:/Python/Python3.8.2/KRU_PRACTISE/PYTHON/NLP/Text_Mining/training_data.xlsx\",'rb'))\n",
    "df.head(3)\n"
   ]
  },
  {
   "cell_type": "code",
   "execution_count": 3,
   "metadata": {},
   "outputs": [],
   "source": [
    "# init Objects\n",
    "tokenizer=RegexpTokenizer(r'\\w+')\n",
    "en_stopwords=set(stopwords.words('english'))\n",
    "ps=PorterStemmer()\n",
    "def getStemmedReview(Text):\n",
    "    Text=Text.lower()\n",
    "    Text=Text.replace(\"<br /><br />\",\" \")\n",
    "    #Tokenize\n",
    "    tokens=tokenizer.tokenize(Text)\n",
    "    new_tokens=[token for token in tokens if token not in  en_stopwords]\n",
    "    stemmed_tokens=[ps.stem(token) for token in new_tokens]\n",
    "    clean_Text=' '.join(stemmed_tokens)\n",
    "    return (clean_Text)"
   ]
  },
  {
   "cell_type": "code",
   "execution_count": 4,
   "metadata": {},
   "outputs": [
    {
     "name": "stdout",
     "output_type": "stream",
     "text": [
      "['Abdominal Aortic Aneurysm — see Aortic Aneurysm'\n",
      " 'Acanthamoeba Infection' 'ACE (Adverse Childhood Experiences)' ...\n",
      " 'banality sundress' ' summer ' 'scupper storm petrel']\n",
      "['Disease' 'Disease' 'Disease' ... 'weather' 'weather' 'weather']\n",
      "['scupper storm petrel'\n",
      " '6pm: Mist 10.9C - http://weatheroffice.gc.ca/city/pages/nb-23_metric_e.html - Wind: SSW 30km/h Gusts to 42km/h - Barometer: 101.7 kPa v - Vis: 9.7km - Hum: 99% #Saint John '\n",
      " 'Many chronic diseases can be prevented or delayed'\n",
      " 'What a wonderfully creepy foggy night outside my window Black heart#fogwhisperers #glasgow #fog '\n",
      " \"Friday's first light shines on Chicago Harbor Lighthouse this morning. \"\n",
      " 'hospitalizations in 2016/2017 in Canada attributed entirely to alcohol-based conditions.'\n",
      " 'While there is no current health advisory for any pandemic flu in Canada, it’s important to take preventative measures, particularly during high-risk months.'\n",
      " \"Lather of Light.  Monday's orange sunset paints the facades of Chicago skyline. \"\n",
      " 'Channeling my inner #BarryButler during a pre election sky in #Schaumburg last night! Call me hand'\n",
      " \"Tuesday morning's start with some lingering autumn colors along Chicago's lakefront.  \"\n",
      " 'Puerto Rico will provide free rapid testing at toll booths across the island in a bid to slow down Covid-19 infections, health officials say.'\n",
      " 'NCEZID works to protect people from emerging and zoonotic infectious diseases, from anthrax to Zika.'\n",
      " 'health in check with expert advice on how to burn more calories during your day.'\n",
      " 'Weather is uncertain that is the reason people falling sick and cathing viral infections'\n",
      " 'Bright sunny day' 'I love autumn'\n",
      " 'Covid - 19 is spreading like fire in the forest'\n",
      " 'Preventive measures should be taken to be safe from bacterial infections.'\n",
      " 'I am not well' 'Love this weather']\n",
      "['weather' 'weather' 'Disease' 'weather' 'weather' 'Disease' 'Disease'\n",
      " 'weather' 'weather' 'weather' 'Disease' 'Disease' 'Disease' 'weather'\n",
      " 'weather' 'weather' 'Disease' 'Disease' 'Disease' 'weather']\n"
     ]
    }
   ],
   "source": [
    "df['Text'].apply(getStemmedReview)\n",
    "X_train = df.loc[:1880, 'Text'].values\n",
    "y_train = df.loc[:1880, 'Type'].values\n",
    "X_test = df.loc[1880:, 'Text'].values\n",
    "y_test = df.loc[1880:, 'Type'].values\n",
    "\n",
    "print(X_train)\n",
    "print(y_train)\n",
    "print(X_test)\n",
    "print(y_test)"
   ]
  },
  {
   "cell_type": "code",
   "execution_count": 5,
   "metadata": {},
   "outputs": [],
   "source": [
    "from sklearn.feature_extraction.text import TfidfVectorizer\n",
    "vectorizer = TfidfVectorizer(sublinear_tf=True, encoding='utf-8',\n",
    " decode_error='ignore')\n",
    "vectorizer.fit(X_train)\n",
    "X_train=vectorizer.transform(X_train)\n",
    "X_test=vectorizer.transform(X_test)"
   ]
  },
  {
   "cell_type": "code",
   "execution_count": 6,
   "metadata": {},
   "outputs": [
    {
     "name": "stdout",
     "output_type": "stream",
     "text": [
      "Score on training data is: 0.9654439128123339\n",
      "Score on testing data is: 0.8\n"
     ]
    }
   ],
   "source": [
    "from sklearn.linear_model import LogisticRegression\n",
    "model=LogisticRegression(solver='liblinear')\n",
    "model.fit(X_train,y_train)\n",
    "print(\"Score on training data is: \"+str(model.score(X_train,y_train)))\n",
    "print(\"Score on testing data is: \"+str(model.score(X_test,y_test)))"
   ]
  },
  {
   "cell_type": "code",
   "execution_count": null,
   "metadata": {},
   "outputs": [],
   "source": [
    "import joblib\n",
    "joblib.dump(en_stopwords,'stopwords.pkl') \n",
    "joblib.dump(model,'model.pkl')\n",
    "joblib.dump(vectorizer,'vectorizer.pkl')"
   ]
  },
  {
   "cell_type": "code",
   "execution_count": null,
   "metadata": {
    "scrolled": true
   },
   "outputs": [],
   "source": []
  },
  {
   "cell_type": "code",
   "execution_count": null,
   "metadata": {},
   "outputs": [],
   "source": [
    "\n"
   ]
  },
  {
   "cell_type": "code",
   "execution_count": null,
   "metadata": {},
   "outputs": [],
   "source": []
  }
 ],
 "metadata": {
  "kernelspec": {
   "display_name": "Python 3",
   "language": "python",
   "name": "python3"
  },
  "language_info": {
   "codemirror_mode": {
    "name": "ipython",
    "version": 3
   },
   "file_extension": ".py",
   "mimetype": "text/x-python",
   "name": "python",
   "nbconvert_exporter": "python",
   "pygments_lexer": "ipython3",
   "version": "3.8.5"
  }
 },
 "nbformat": 4,
 "nbformat_minor": 4
}
